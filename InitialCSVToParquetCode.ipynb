{
 "cells": [
  {
   "cell_type": "code",
   "execution_count": 1,
   "metadata": {},
   "outputs": [
    {
     "name": "stdout",
     "output_type": "stream",
     "text": [
      "+--------+--------------------+---------------------+---------------+-------------+----------+------------------+------------+------------+------------+-----------+-----+-------+----------+------------+---------------------+------------+--------------------+\n",
      "|VendorID|tpep_pickup_datetime|tpep_dropoff_datetime|passenger_count|trip_distance|RatecodeID|store_and_fwd_flag|PULocationID|DOLocationID|payment_type|fare_amount|extra|mta_tax|tip_amount|tolls_amount|improvement_surcharge|total_amount|congestion_surcharge|\n",
      "+--------+--------------------+---------------------+---------------+-------------+----------+------------------+------------+------------+------------+-----------+-----+-------+----------+------------+---------------------+------------+--------------------+\n",
      "|       1|      01/01/19 00:46|       01/01/19 00:53|              1|          1.5|         1|                 N|         151|         239|           1|          7|  0.5|    0.5|      1.65|           0|                  0.3|        9.95|                null|\n",
      "|       1|      01/01/19 00:59|       01/01/19 01:18|              1|          2.6|         1|                 N|         239|         246|           1|         14|  0.5|    0.5|         1|           0|                  0.3|        16.3|                null|\n",
      "|       2|      21/12/18 13:48|       21/12/18 13:52|              3|            0|         1|                 N|         236|         236|           1|        4.5|  0.5|    0.5|         0|           0|                  0.3|         5.8|                null|\n",
      "|       2|      28/11/18 15:52|       28/11/18 15:55|              5|            0|         1|                 N|         193|         193|           2|        3.5|  0.5|    0.5|         0|           0|                  0.3|        7.55|                null|\n",
      "|       2|      28/11/18 15:56|       28/11/18 15:58|              5|            0|         2|                 N|         193|         193|           2|         52|    0|    0.5|         0|           0|                  0.3|       55.55|                null|\n",
      "|       2|      28/11/18 16:25|       28/11/18 16:28|              5|            0|         1|                 N|         193|         193|           2|        3.5|  0.5|    0.5|         0|        5.76|                  0.3|       13.31|                null|\n",
      "|       2|      28/11/18 16:29|       28/11/18 16:33|              5|            0|         2|                 N|         193|         193|           2|         52|    0|    0.5|         0|           0|                  0.3|       55.55|                null|\n",
      "|       1|      01/01/19 00:21|       01/01/19 00:28|              1|          1.3|         1|                 N|         163|         229|           1|        6.5|  0.5|    0.5|      1.25|           0|                  0.3|        9.05|                null|\n",
      "|       1|      01/01/19 00:32|       01/01/19 00:45|              1|          3.7|         1|                 N|         229|           7|           1|       13.5|  0.5|    0.5|       3.7|           0|                  0.3|        18.5|                null|\n",
      "|       1|      01/01/19 00:57|       01/01/19 01:09|              2|          2.1|         1|                 N|         141|         234|           1|         10|  0.5|    0.5|       1.7|           0|                  0.3|          13|                null|\n",
      "|       1|      01/01/19 00:24|       01/01/19 00:47|              2|          2.8|         1|                 N|         246|         162|           1|         15|  0.5|    0.5|      3.25|           0|                  0.3|       19.55|                null|\n",
      "|       1|      01/01/19 00:21|       01/01/19 00:28|              1|          0.7|         1|                 N|         238|         151|           1|        5.5|  0.5|    0.5|       1.7|           0|                  0.3|         8.5|                null|\n",
      "|       1|      01/01/19 00:45|       01/01/19 01:31|              1|          8.7|         1|                 N|         163|          25|           1|       34.5|  0.5|    0.5|      7.15|           0|                  0.3|       42.95|                null|\n",
      "|       1|      01/01/19 00:43|       01/01/19 01:07|              1|          6.3|         1|                 N|         224|          25|           1|       21.5|  0.5|    0.5|       5.7|           0|                  0.3|        28.5|                null|\n",
      "|       1|      01/01/19 00:58|       01/01/19 01:15|              1|          2.7|         1|                 N|         141|         234|           1|         13|  0.5|    0.5|         1|           0|                  0.3|        15.3|                null|\n",
      "|       2|      01/01/19 00:23|       01/01/19 00:25|              1|         0.38|         1|                 N|         170|         170|           2|        3.5|  0.5|    0.5|         0|           0|                  0.3|         4.8|                null|\n",
      "|       2|      01/01/19 00:39|       01/01/19 00:48|              1|         0.55|         1|                 N|         170|         170|           1|        6.5|  0.5|    0.5|      1.95|           0|                  0.3|        9.75|                null|\n",
      "|       2|      01/01/19 00:46|       01/01/19 00:49|              1|          0.3|         1|                 N|         107|         107|           1|          4|  0.5|    0.5|      1.06|           0|                  0.3|        6.36|                null|\n",
      "|       2|      01/01/19 00:57|       01/01/19 01:03|              1|         1.42|         1|                 N|         170|         141|           1|        6.5|  0.5|    0.5|      1.56|           0|                  0.3|        9.36|                null|\n",
      "|       2|      01/01/19 00:16|       01/01/19 00:25|              1|         1.72|         1|                 N|          41|         247|           2|          9|  0.5|    0.5|         0|           0|                  0.3|        10.3|                null|\n",
      "+--------+--------------------+---------------------+---------------+-------------+----------+------------------+------------+------------+------------+-----------+-----+-------+----------+------------+---------------------+------------+--------------------+\n",
      "only showing top 20 rows\n",
      "\n",
      "+--------+--------------------+---------------------+---------------+-------------+----------+------------------+------------+------------+------------+-----------+-----+-------+----------+------------+---------------------+------------+--------------------+--------+--------------------+---------------------+---------------+-------------+----------+------------------+------------+------------+------------+-----------+-----+-------+----------+------------+---------------------+------------+--------------------+\n",
      "|VendorID|tpep_pickup_datetime|tpep_dropoff_datetime|passenger_count|trip_distance|RatecodeID|store_and_fwd_flag|PULocationID|DOLocationID|payment_type|fare_amount|extra|mta_tax|tip_amount|tolls_amount|improvement_surcharge|total_amount|congestion_surcharge|VendorID|tpep_pickup_datetime|tpep_dropoff_datetime|passenger_count|trip_distance|RatecodeID|store_and_fwd_flag|PULocationID|DOLocationID|payment_type|fare_amount|extra|mta_tax|tip_amount|tolls_amount|improvement_surcharge|total_amount|congestion_surcharge|\n",
      "+--------+--------------------+---------------------+---------------+-------------+----------+------------------+------------+------------+------------+-----------+-----+-------+----------+------------+---------------------+------------+--------------------+--------+--------------------+---------------------+---------------+-------------+----------+------------------+------------+------------+------------+-----------+-----+-------+----------+------------+---------------------+------------+--------------------+\n",
      "+--------+--------------------+---------------------+---------------+-------------+----------+------------------+------------+------------+------------+-----------+-----+-------+----------+------------+---------------------+------------+--------------------+--------+--------------------+---------------------+---------------+-------------+----------+------------------+------------+------------+------------+-----------+-----+-------+----------+------------+---------------------+------------+--------------------+\n",
      "\n"
     ]
    }
   ],
   "source": [
    "import findspark\n",
    "findspark.init()\n",
    "\n",
    "import py4j\n",
    "import pyspark\n",
    "\n",
    "from pyspark.sql import SQLContext\n",
    "from pyspark.sql.types import *\n",
    "from pyspark.sql.functions import *\n",
    "from pyspark.context import SparkContext\n",
    "\n",
    "sc = SparkContext().getOrCreate()\n",
    "\n",
    "sqlContext = SQLContext(sc)\n",
    "\n",
    "#file_location = 'gs://nyctaxi-bucket1'\n",
    "#https://s3.amazonaws.com/nyc- tlc/trip+data/yellow_tripdata_2017-02.csv\n",
    "file_location = 'sampleYellowTripData.csv'\n",
    "df = sqlContext.read.format('com.databricks.spark.csv').options(header='true').load(file_location)\n",
    "\n",
    "# RUN BELOW FOR THE FIRST TIME\n",
    "#df.write.parquet(\"gs://nyctaxi-bucket1/parquet\")\n",
    "#df.write.save(\"nyctaxi-bucket1.parquet\", format=\"parquet\")\n",
    "parquetDF = sqlContext.read.parquet(\"nyctaxi-bucket1.parquet\")\n",
    "\n",
    "parquetDF.show()\n",
    "\n",
    "parquetDF.createOrReplaceTempView(\"rides\")\n",
    "sqlDf = sqlContext.sql(\"SELECT * FROM rides\")\n",
    "\n",
    "df_with_id = sqlDf.withColumn(\"id\", monotonically_increasing_id()+1)\n",
    "df_with_id = df_with_id.na.drop(subset=[\"tpep_pickup_datetime\"])\n",
    "dateFormat=\"MM/dd/YYYY\"\n",
    "\n",
    "df_with_pdt = df_with_id.withColumn(\"pdt\", from_unixtime(unix_timestamp(df_with_id[\"tpep_pickup_datetime\"]),dateFormat))\n",
    "df_with_ddt = df_with_pdt.withColumn(\"ddt\", from_unixtime(unix_timestamp(df_with_id[\"tpep_dropoff_datetime\"]),dateFormat))\n",
    "\n",
    "joindf = sqlContext.sql(\"SELECT * FROM rides t1 join rides t2 on ABS(UNIX_TIMESTAMP(t1.tpep_pickup_datetime)-UNIX_TIMESTAMP(t2.tpep_pickup_datetime)) <=300\")\n",
    "joindf.show()\n",
    "\n"
   ]
  }
 ],
 "metadata": {
  "kernelspec": {
   "display_name": "Python 3",
   "language": "python",
   "name": "python3"
  },
  "language_info": {
   "codemirror_mode": {
    "name": "ipython",
    "version": 3
   },
   "file_extension": ".py",
   "mimetype": "text/x-python",
   "name": "python",
   "nbconvert_exporter": "python",
   "pygments_lexer": "ipython3",
   "version": "3.7.5"
  }
 },
 "nbformat": 4,
 "nbformat_minor": 2
}
